{
 "cells": [
  {
   "cell_type": "code",
   "execution_count": 2,
   "metadata": {},
   "outputs": [],
   "source": [
    "import json\n",
    "import pandas as pd\n",
    "import requests\n",
    "import numpy as np\n",
    "import matplotlib.pyplot as plt\n",
    "import gmaps\n",
    "from config import (gkey)\n"
   ]
  },
  {
   "cell_type": "code",
   "execution_count": 6,
   "metadata": {},
   "outputs": [],
   "source": [
    "midwest_csv_file = \"Region_MidWest_Energy_Usage_By_Month.csv\"\n",
    "north_csv_file = \"Region_North_Energy_Usage_By_Month.csv\"\n",
    "south_csv_file = \"Region_South_Energy_Usage_By_Month.csv\"\n",
    "west_csv_file = \"Region_West_Energy_Usage_By_Month.csv\""
   ]
  },
  {
   "cell_type": "code",
   "execution_count": 24,
   "metadata": {},
   "outputs": [
    {
     "data": {
      "text/html": [
       "<div>\n",
       "<style scoped>\n",
       "    .dataframe tbody tr th:only-of-type {\n",
       "        vertical-align: middle;\n",
       "    }\n",
       "\n",
       "    .dataframe tbody tr th {\n",
       "        vertical-align: top;\n",
       "    }\n",
       "\n",
       "    .dataframe thead th {\n",
       "        text-align: right;\n",
       "    }\n",
       "</style>\n",
       "<table border=\"1\" class=\"dataframe\">\n",
       "  <thead>\n",
       "    <tr style=\"text-align: right;\">\n",
       "      <th></th>\n",
       "      <th>AZ</th>\n",
       "      <th>CO</th>\n",
       "      <th>CA</th>\n",
       "      <th>ID</th>\n",
       "      <th>MT</th>\n",
       "      <th>NM</th>\n",
       "      <th>NV</th>\n",
       "      <th>OR</th>\n",
       "      <th>UT</th>\n",
       "      <th>WA</th>\n",
       "      <th>WY</th>\n",
       "    </tr>\n",
       "  </thead>\n",
       "  <tbody>\n",
       "    <tr>\n",
       "      <th>0</th>\n",
       "      <td>21805.084</td>\n",
       "      <td>9907.349</td>\n",
       "      <td>61346.57848</td>\n",
       "      <td>3696.265</td>\n",
       "      <td>1136.872</td>\n",
       "      <td>5963.737</td>\n",
       "      <td>13474.968</td>\n",
       "      <td>13395.905</td>\n",
       "      <td>7883.593</td>\n",
       "      <td>10086.65543</td>\n",
       "      <td>3072.051</td>\n",
       "    </tr>\n",
       "    <tr>\n",
       "      <th>1</th>\n",
       "      <td>27952.698</td>\n",
       "      <td>8665.788</td>\n",
       "      <td>67284.39227</td>\n",
       "      <td>3038.303</td>\n",
       "      <td>1271.153</td>\n",
       "      <td>5646.431</td>\n",
       "      <td>13807.543</td>\n",
       "      <td>12986.806</td>\n",
       "      <td>5392.994</td>\n",
       "      <td>11594.37393</td>\n",
       "      <td>3293.536</td>\n",
       "    </tr>\n",
       "    <tr>\n",
       "      <th>2</th>\n",
       "      <td>35870.363</td>\n",
       "      <td>11632.616</td>\n",
       "      <td>72886.67514</td>\n",
       "      <td>3568.346</td>\n",
       "      <td>1258.308</td>\n",
       "      <td>7882.750</td>\n",
       "      <td>18934.626</td>\n",
       "      <td>13451.894</td>\n",
       "      <td>7560.044</td>\n",
       "      <td>12565.44935</td>\n",
       "      <td>3993.574</td>\n",
       "    </tr>\n",
       "    <tr>\n",
       "      <th>3</th>\n",
       "      <td>42623.419</td>\n",
       "      <td>14572.266</td>\n",
       "      <td>86469.63135</td>\n",
       "      <td>4211.652</td>\n",
       "      <td>1250.088</td>\n",
       "      <td>10251.916</td>\n",
       "      <td>23020.230</td>\n",
       "      <td>15457.150</td>\n",
       "      <td>9734.522</td>\n",
       "      <td>13668.61601</td>\n",
       "      <td>3783.883</td>\n",
       "    </tr>\n",
       "    <tr>\n",
       "      <th>4</th>\n",
       "      <td>46582.929</td>\n",
       "      <td>15633.269</td>\n",
       "      <td>95772.47727</td>\n",
       "      <td>4116.852</td>\n",
       "      <td>1207.759</td>\n",
       "      <td>10184.239</td>\n",
       "      <td>24287.925</td>\n",
       "      <td>14807.241</td>\n",
       "      <td>10773.170</td>\n",
       "      <td>13420.15843</td>\n",
       "      <td>4227.945</td>\n",
       "    </tr>\n",
       "  </tbody>\n",
       "</table>\n",
       "</div>"
      ],
      "text/plain": [
       "          AZ         CO           CA        ID        MT         NM  \\\n",
       "0  21805.084   9907.349  61346.57848  3696.265  1136.872   5963.737   \n",
       "1  27952.698   8665.788  67284.39227  3038.303  1271.153   5646.431   \n",
       "2  35870.363  11632.616  72886.67514  3568.346  1258.308   7882.750   \n",
       "3  42623.419  14572.266  86469.63135  4211.652  1250.088  10251.916   \n",
       "4  46582.929  15633.269  95772.47727  4116.852  1207.759  10184.239   \n",
       "\n",
       "          NV         OR         UT           WA        WY  \n",
       "0  13474.968  13395.905   7883.593  10086.65543  3072.051  \n",
       "1  13807.543  12986.806   5392.994  11594.37393  3293.536  \n",
       "2  18934.626  13451.894   7560.044  12565.44935  3993.574  \n",
       "3  23020.230  15457.150   9734.522  13668.61601  3783.883  \n",
       "4  24287.925  14807.241  10773.170  13420.15843  4227.945  "
      ]
     },
     "execution_count": 24,
     "metadata": {},
     "output_type": "execute_result"
    }
   ],
   "source": [
    "m_df = ((pd.read_csv(midwest_csv_file)).iloc[0:121]).drop(columns=['Unnamed: 0'])\n",
    "n_df = ((pd.read_csv(north_csv_file)).iloc[0:121]).drop(columns=['Unnamed: 0'])\n",
    "s_df = ((pd.read_csv(south_csv_file)).iloc[0:121]).drop(columns=['Unnamed: 0'])\n",
    "w_df = ((pd.read_csv(west_csv_file)).iloc[0:121]).drop(columns=['Unnamed: 0'])\n",
    "w_df.head()\n"
   ]
  },
  {
   "cell_type": "code",
   "execution_count": 85,
   "metadata": {},
   "outputs": [
    {
     "data": {
      "text/html": [
       "<div>\n",
       "<style scoped>\n",
       "    .dataframe tbody tr th:only-of-type {\n",
       "        vertical-align: middle;\n",
       "    }\n",
       "\n",
       "    .dataframe tbody tr th {\n",
       "        vertical-align: top;\n",
       "    }\n",
       "\n",
       "    .dataframe thead th {\n",
       "        text-align: right;\n",
       "    }\n",
       "</style>\n",
       "<table border=\"1\" class=\"dataframe\">\n",
       "  <thead>\n",
       "    <tr style=\"text-align: right;\">\n",
       "      <th></th>\n",
       "      <th>State</th>\n",
       "      <th>Avg MMBTU</th>\n",
       "    </tr>\n",
       "  </thead>\n",
       "  <tbody>\n",
       "    <tr>\n",
       "      <th>0</th>\n",
       "      <td>AL</td>\n",
       "      <td>36790.690314</td>\n",
       "    </tr>\n",
       "    <tr>\n",
       "      <th>1</th>\n",
       "      <td>AR</td>\n",
       "      <td>12626.310190</td>\n",
       "    </tr>\n",
       "    <tr>\n",
       "      <th>2</th>\n",
       "      <td>AZ</td>\n",
       "      <td>24447.265083</td>\n",
       "    </tr>\n",
       "    <tr>\n",
       "      <th>3</th>\n",
       "      <td>CA</td>\n",
       "      <td>71884.957200</td>\n",
       "    </tr>\n",
       "    <tr>\n",
       "      <th>4</th>\n",
       "      <td>CO</td>\n",
       "      <td>10379.481017</td>\n",
       "    </tr>\n",
       "  </tbody>\n",
       "</table>\n",
       "</div>"
      ],
      "text/plain": [
       "  State     Avg MMBTU\n",
       "0    AL  36790.690314\n",
       "1    AR  12626.310190\n",
       "2    AZ  24447.265083\n",
       "3    CA  71884.957200\n",
       "4    CO  10379.481017"
      ]
     },
     "execution_count": 85,
     "metadata": {},
     "output_type": "execute_result"
    }
   ],
   "source": [
    "m_mean_df = pd.DataFrame(m_df.mean())\n",
    "m_mean_df.columns = ['Avg MMBTU']\n",
    "mid_mean_df = m_mean_df.reset_index()\n",
    "mid_mean_df.rename(columns={'index' : 'State'}, inplace = True)\n",
    "\n",
    "n_mean_df = pd.DataFrame(n_df.mean())\n",
    "n_mean_df.columns = ['Avg MMBTU']\n",
    "nor_mean_df = n_mean_df.reset_index()\n",
    "nor_mean_df.rename(columns={'index' : 'State'}, inplace = True)\n",
    "\n",
    "s_mean_df = pd.DataFrame(s_df.mean())\n",
    "s_mean_df.columns = ['Avg MMBTU']\n",
    "sou_mean_df = s_mean_df.reset_index()\n",
    "sou_mean_df.rename(columns={'index' : 'State'}, inplace = True)\n",
    "\n",
    "w_mean_df = pd.DataFrame(w_df.mean())\n",
    "w_mean_df.columns = ['Avg MMBTU']\n",
    "wes_mean_df = w_mean_df.reset_index()\n",
    "wes_mean_df.rename(columns={'index' : 'State'}, inplace = True)\n",
    "\n",
    "complete_df = pd.concat([mid_mean_df, nor_mean_df, sou_mean_df, wes_mean_df])\n",
    "complete_df.sort_values(by=['State'], inplace=True, ascending=True, ignore_index=True)\n",
    "complete_df.head()\n"
   ]
  },
  {
   "cell_type": "code",
   "execution_count": 75,
   "metadata": {},
   "outputs": [],
   "source": [
    "latlng_csv_file = \"state_lat_long.csv\""
   ]
  },
  {
   "cell_type": "code",
   "execution_count": 86,
   "metadata": {},
   "outputs": [
    {
     "data": {
      "text/html": [
       "<div>\n",
       "<style scoped>\n",
       "    .dataframe tbody tr th:only-of-type {\n",
       "        vertical-align: middle;\n",
       "    }\n",
       "\n",
       "    .dataframe tbody tr th {\n",
       "        vertical-align: top;\n",
       "    }\n",
       "\n",
       "    .dataframe thead th {\n",
       "        text-align: right;\n",
       "    }\n",
       "</style>\n",
       "<table border=\"1\" class=\"dataframe\">\n",
       "  <thead>\n",
       "    <tr style=\"text-align: right;\">\n",
       "      <th></th>\n",
       "      <th>State</th>\n",
       "      <th>Latitude</th>\n",
       "      <th>Longitude</th>\n",
       "    </tr>\n",
       "  </thead>\n",
       "  <tbody>\n",
       "    <tr>\n",
       "      <th>0</th>\n",
       "      <td>AL</td>\n",
       "      <td>32.601011</td>\n",
       "      <td>-86.680736</td>\n",
       "    </tr>\n",
       "    <tr>\n",
       "      <th>2</th>\n",
       "      <td>AZ</td>\n",
       "      <td>34.168219</td>\n",
       "      <td>-111.930907</td>\n",
       "    </tr>\n",
       "    <tr>\n",
       "      <th>3</th>\n",
       "      <td>AR</td>\n",
       "      <td>34.751928</td>\n",
       "      <td>-92.131378</td>\n",
       "    </tr>\n",
       "    <tr>\n",
       "      <th>4</th>\n",
       "      <td>CA</td>\n",
       "      <td>37.271875</td>\n",
       "      <td>-119.270415</td>\n",
       "    </tr>\n",
       "    <tr>\n",
       "      <th>5</th>\n",
       "      <td>CO</td>\n",
       "      <td>38.997934</td>\n",
       "      <td>-105.550567</td>\n",
       "    </tr>\n",
       "  </tbody>\n",
       "</table>\n",
       "</div>"
      ],
      "text/plain": [
       "  State   Latitude   Longitude\n",
       "0    AL  32.601011  -86.680736\n",
       "2    AZ  34.168219 -111.930907\n",
       "3    AR  34.751928  -92.131378\n",
       "4    CA  37.271875 -119.270415\n",
       "5    CO  38.997934 -105.550567"
      ]
     },
     "execution_count": 86,
     "metadata": {},
     "output_type": "execute_result"
    }
   ],
   "source": [
    "lat_lng_df = pd.read_csv(latlng_csv_file)\n",
    "\n",
    "latlng_df = lat_lng_df.drop(['City'], axis=1)\n",
    "latlng_df = latlng_df.drop(labels=[1,8,11], axis=0)\n",
    "latlng_df.head()"
   ]
  },
  {
   "cell_type": "code",
   "execution_count": 87,
   "metadata": {},
   "outputs": [],
   "source": [
    "gmaps.configure(api_key=gkey)"
   ]
  },
  {
   "cell_type": "code",
   "execution_count": 88,
   "metadata": {},
   "outputs": [],
   "source": [
    "# Store 'Lat' and 'Lng' into  locations \n",
    "locations = latlng_df[[\"Latitude\", \"Longitude\"]].astype(float)\n",
    "\n",
    "# Convert Poverty Rate to float and store\n",
    "\n",
    "average_btu = complete_df[\"Avg MMBTU\"].astype(float)\n"
   ]
  },
  {
   "cell_type": "code",
   "execution_count": 98,
   "metadata": {},
   "outputs": [
    {
     "data": {
      "application/vnd.jupyter.widget-view+json": {
       "model_id": "439c64a860f24133aab45ed7428d2c82",
       "version_major": 2,
       "version_minor": 0
      },
      "text/plain": [
       "Figure(layout=FigureLayout(height='420px'))"
      ]
     },
     "metadata": {},
     "output_type": "display_data"
    }
   ],
   "source": [
    "fig = gmaps.figure()\n",
    "\n",
    "heat_layer = gmaps.heatmap_layer(locations, weights=average_btu, \n",
    "                                 dissipating=False, max_intensity=50000,\n",
    "                                 point_radius = 4,)\n",
    "\n",
    "fig.add_layer(heat_layer)\n",
    "\n",
    "fig"
   ]
  },
  {
   "cell_type": "code",
   "execution_count": null,
   "metadata": {},
   "outputs": [],
   "source": []
  }
 ],
 "metadata": {
  "interpreter": {
   "hash": "e5becfc84e14d84554413ef684848cefd6f319e82f7141e5a98a2d418daa5cbd"
  },
  "kernelspec": {
   "display_name": "Python 3.9.7 ('base')",
   "language": "python",
   "name": "python3"
  },
  "language_info": {
   "codemirror_mode": {
    "name": "ipython",
    "version": 3
   },
   "file_extension": ".py",
   "mimetype": "text/x-python",
   "name": "python",
   "nbconvert_exporter": "python",
   "pygments_lexer": "ipython3",
   "version": "3.9.7"
  },
  "orig_nbformat": 4
 },
 "nbformat": 4,
 "nbformat_minor": 2
}

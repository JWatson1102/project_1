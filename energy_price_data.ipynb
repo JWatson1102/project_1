{
 "cells": [
  {
   "cell_type": "code",
   "execution_count": 1,
   "metadata": {},
   "outputs": [],
   "source": [
    "import json\n",
    "import numpy as np\n",
    "import pandas as pd\n",
    "import matplotlib.pyplot as plt\n",
    "import requests\n",
    "from pprint import pprint\n",
    "from config import api_key\n",
    "\n",
    "state_codes = ['AL','AZ','AR','CA','CO','CT','DE','FL','GA','ID','IL','IN','IA','KS','KY','LA','ME','MD','MA','MI','MN','MS','MO','MT','NE','NV','NH','NJ','NM','NY','NC','ND','OH','OK','OR','PA','RI','SC','SD','TN','TX','UT','VT','VA','WA','WV','WI','WY']\n",
    "\n"
   ]
  },
  {
   "cell_type": "code",
   "execution_count": 2,
   "metadata": {},
   "outputs": [],
   "source": [
    "#THIS SECTION OF CODE IS FOR TROUBLESHOOTING PLEASE IGNORE\n",
    "#test_state='AZ'\n",
    "\n",
    "#test_url = f'http://api.eia.gov/series/?api_key={api_key}&series_id=ELEC.PRICE.{test_state}-ALL.M'\n",
    "\n",
    "#test_response = requests.get(test_url).json()"
   ]
  },
  {
   "cell_type": "code",
   "execution_count": 3,
   "metadata": {},
   "outputs": [],
   "source": [
    "#test_response_data = test_response['series'][0]['data']\n",
    "#test_response_data[0][0][0:4]\n",
    "#test_response_data[0][0][4:6]\n"
   ]
  },
  {
   "cell_type": "code",
   "execution_count": 4,
   "metadata": {},
   "outputs": [],
   "source": [
    "#year_data = []\n",
    "#price_data = []\n",
    "\n",
    "#for x in range(251):\n",
    "#    year_data.append(test_response_data[x][0])\n",
    "#    price_data.append(test_response_data[x][1])\n",
    "\n",
    "#test_df = pd.df({\n",
    "#    'Year':year_data,\n",
    "#    'Date':price_data\n",
    "#})\n",
    "\n",
    "#test_df = test_df.set_index(['Year'])\n",
    "\n",
    "#test_df"
   ]
  },
  {
   "cell_type": "code",
   "execution_count": 5,
   "metadata": {},
   "outputs": [],
   "source": [
    "df = pd.DataFrame({})\n",
    "\n",
    "for state in state_codes:\n",
    "    url = f'http://api.eia.gov/series/?api_key={api_key}&series_id=ELEC.PRICE.{state}-ALL.M'\n",
    "\n",
    "    response = requests.get(url).json()\n",
    "    \n",
    "    response_data = response['series'][0]['data']\n",
    "\n",
    "    date_data = []\n",
    "    price_data = []\n",
    "\n",
    "    for x in range(251):\n",
    "        date_data.append(response_data[x][0])\n",
    "        price_data.append(response_data[x][1])\n",
    "        \n",
    "    df[f'{state} Price'] = price_data\n",
    "    \n",
    "df['Date (YYYY/MM)'] = date_data"
   ]
  },
  {
   "cell_type": "code",
   "execution_count": 6,
   "metadata": {},
   "outputs": [],
   "source": [
    "#sorted_df = df.set_index('Year')\n",
    "#df.head()"
   ]
  },
  {
   "cell_type": "code",
   "execution_count": 7,
   "metadata": {},
   "outputs": [],
   "source": [
    "north = ['CT Price','ME Price','MA Price','MO Price','NE Price','NH Price','NJ Price','NY Price','PA Price','RI Price','VT Price']\n",
    "\n",
    "west = ['AZ Price','CO Price','CA Price','ID Price','MT Price','NM Price','NV Price','OR Price','UT Price','WA Price','WY Price']\n",
    "\n",
    "mid = ['IL Price','IN Price','IA Price','KS Price','MI Price','MN Price','ND Price','OH Price','SD Price','WI Price']\n",
    "\n",
    "south = ['AL Price','AR Price','DE Price','FL Price','GA Price','KY Price','LA Price','MD Price','MS Price','NC Price','OK Price','SC Price','TN Price','TX Price','VA Price','WV Price']"
   ]
  },
  {
   "cell_type": "code",
   "execution_count": 8,
   "metadata": {},
   "outputs": [],
   "source": [
    "north_df = df[north]\n",
    "south_df = df[south]\n",
    "mid_df = df[mid]\n",
    "west_df = df[west]"
   ]
  },
  {
   "cell_type": "code",
   "execution_count": 9,
   "metadata": {},
   "outputs": [],
   "source": [
    "#north_df.head()"
   ]
  }
 ],
 "metadata": {
  "kernelspec": {
   "display_name": "Python 3",
   "language": "python",
   "name": "python3"
  },
  "language_info": {
   "codemirror_mode": {
    "name": "ipython",
    "version": 3
   },
   "file_extension": ".py",
   "mimetype": "text/x-python",
   "name": "python",
   "nbconvert_exporter": "python",
   "pygments_lexer": "ipython3",
   "version": "3.6.10"
  }
 },
 "nbformat": 4,
 "nbformat_minor": 4
}
